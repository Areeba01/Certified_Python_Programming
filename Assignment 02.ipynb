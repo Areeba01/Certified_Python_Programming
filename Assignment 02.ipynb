{
 "cells": [
  {
   "cell_type": "code",
   "execution_count": 1,
   "metadata": {},
   "outputs": [
    {
     "name": "stdout",
     "output_type": "stream",
     "text": [
      "Enter marks of English: 56\n",
      "Enter marks of Urdu: 78\n",
      "Enter marks of Maths: 88\n",
      "Enter marks of Computer: 97\n",
      "Enter marks of Science: 87\n"
     ]
    }
   ],
   "source": [
    "#Question 01 slution\n",
    "E = int(input(\"Enter marks of English: \"))\n",
    "U = int(input(\"Enter marks of Urdu: \"))\n",
    "M = int(input(\"Enter marks of Maths: \"))\n",
    "C = int(input(\"Enter marks of Computer: \"))\n",
    "S = int(input(\"Enter marks of Science: \"))\n"
   ]
  },
  {
   "cell_type": "code",
   "execution_count": 2,
   "metadata": {},
   "outputs": [
    {
     "name": "stdout",
     "output_type": "stream",
     "text": [
      "\t\t\tMARKSHEET\n",
      "SUBJECT/tTOTAL MAX MARKS/t OBTAINED MARKS \n",
      "English \t 100 \t 56\n",
      "Urdu \t\t 100 \t 78\n",
      "Computer \t 100 \t 97\n",
      "Maths \t\t 100 \t 88\n",
      "Science \t 100 \t 87\n",
      "Total Marks:\t  500\n",
      "Obtained Marks:   406\n",
      "Percentage:       81.2\n"
     ]
    }
   ],
   "source": [
    "print(\"\\t\\t\\tMARKSHEET\")\n",
    "T = 100\n",
    "print(\"SUBJECT/tTOTAL MAX MARKS/t OBTAINED MARKS \")\n",
    "print(\"English\",\"\\t\",T,\"\\t\",E)\n",
    "print(\"Urdu\",\"\\t\\t\",T,\"\\t\",U)\n",
    "print(\"Computer\",\"\\t\",T,\"\\t\",C)\n",
    "print(\"Maths\",\"\\t\\t\",T,\"\\t\",M)\n",
    "print(\"Science\",\"\\t\",T,\"\\t\",S)\n",
    "print(\"Total Marks:\\t \",T*5)\n",
    "print(\"Obtained Marks:  \",E+U+M+C+S)\n",
    "print(\"Percentage:      \",((E+U+M+C+S)/(T*5))*100)\n"
   ]
  },
  {
   "cell_type": "code",
   "execution_count": 5,
   "metadata": {},
   "outputs": [
    {
     "name": "stdout",
     "output_type": "stream",
     "text": [
      "Enter a 21\n",
      "Number is odd\n"
     ]
    }
   ],
   "source": [
    "#Question 02 slution\n",
    "Num=int(input(\"Enter a \"))\n",
    "chk = Num % 2\n",
    "if chk == 0:\n",
    "    print(\"Number is even\")\n",
    "else:\n",
    "    print(\"Number is odd\")"
   ]
  },
  {
   "cell_type": "code",
   "execution_count": 6,
   "metadata": {},
   "outputs": [
    {
     "name": "stdout",
     "output_type": "stream",
     "text": [
      "Lenght of List:  10\n"
     ]
    }
   ],
   "source": [
    "#Question 03 slution\n",
    "l = [1,2,3,4,5,6,7,8,9,0]\n",
    "print(\"Lenght of List: \",len(l))"
   ]
  },
  {
   "cell_type": "code",
   "execution_count": 11,
   "metadata": {},
   "outputs": [
    {
     "name": "stdout",
     "output_type": "stream",
     "text": [
      "121\n"
     ]
    }
   ],
   "source": [
    "#Question 04 slution\n",
    "l =[1,4,6,4,2,7,88,3,6]\n",
    "sum = 0\n",
    "for a in l:\n",
    "    sum = sum + a\n",
    "print(sum)\n"
   ]
  },
  {
   "cell_type": "code",
   "execution_count": 12,
   "metadata": {},
   "outputs": [
    {
     "name": "stdout",
     "output_type": "stream",
     "text": [
      "777\n"
     ]
    }
   ],
   "source": [
    "#Question 05 slution\n",
    "l = [22,54,777,21,0,91,12,54]\n",
    "temp = 0\n",
    "for a in l:\n",
    "    if a > temp:\n",
    "        temp = a\n",
    "print(temp)"
   ]
  },
  {
   "cell_type": "code",
   "execution_count": 13,
   "metadata": {},
   "outputs": [
    {
     "name": "stdout",
     "output_type": "stream",
     "text": [
      "1\n",
      "1\n",
      "2\n",
      "3\n"
     ]
    }
   ],
   "source": [
    "#Question 06 slution\n",
    "l = [1,1,2,3,5,8,13,21,34,55,89]\n",
    "for a in l:\n",
    "    if a < 5:\n",
    "        print(a)"
   ]
  },
  {
   "cell_type": "code",
   "execution_count": null,
   "metadata": {},
   "outputs": [],
   "source": []
  }
 ],
 "metadata": {
  "kernelspec": {
   "display_name": "Python 3",
   "language": "python",
   "name": "python3"
  },
  "language_info": {
   "codemirror_mode": {
    "name": "ipython",
    "version": 3
   },
   "file_extension": ".py",
   "mimetype": "text/x-python",
   "name": "python",
   "nbconvert_exporter": "python",
   "pygments_lexer": "ipython3",
   "version": "3.7.4"
  }
 },
 "nbformat": 4,
 "nbformat_minor": 2
}
